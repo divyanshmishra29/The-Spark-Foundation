{
  "nbformat": 4,
  "nbformat_minor": 0,
  "metadata": {
    "colab": {
      "name": "Untitled54.ipynb",
      "provenance": []
    },
    "kernelspec": {
      "name": "python3",
      "display_name": "Python 3"
    }
  },
  "cells": [
    {
      "cell_type": "markdown",
      "metadata": {
        "id": "YsLPJ90S6APe"
      },
      "source": [
        "# The Spark Foundation\r\n",
        "\r\n",
        "**TASK 1- Prediction using supervised ML **\r\n",
        "\r\n",
        "**Author- Divyansh Mishra**\r\n"
      ]
    },
    {
      "cell_type": "code",
      "metadata": {
        "id": "4hdRm-4P6mtg"
      },
      "source": [
        "#Importing some of the useful libraries\r\n",
        "import numpy as np\r\n",
        "import pandas as pd\r\n",
        "import matplotlib.pyplot as plt\r\n",
        "import seaborn as sns\r\n",
        "from sklearn.model_selection import train_test_split\r\n",
        "from sklearn.linear_model import LinearRegression\r\n"
      ],
      "execution_count": 13,
      "outputs": []
    },
    {
      "cell_type": "code",
      "metadata": {
        "colab": {
          "base_uri": "https://localhost:8080/",
          "height": 195
        },
        "id": "VnBfBXJU7cc-",
        "outputId": "c091d6f9-0bba-47c7-b800-388b677fea0b"
      },
      "source": [
        "URL='https://raw.githubusercontent.com/AdiPersonalWorks/Random/master/student_scores%20-%20student_scores.csv'\r\n",
        "df=pd.read_csv(URL)\r\n",
        "\r\n",
        "#Let's have a look at what our data is like\r\n",
        "\r\n",
        "df.head()"
      ],
      "execution_count": 14,
      "outputs": [
        {
          "output_type": "execute_result",
          "data": {
            "text/html": [
              "<div>\n",
              "<style scoped>\n",
              "    .dataframe tbody tr th:only-of-type {\n",
              "        vertical-align: middle;\n",
              "    }\n",
              "\n",
              "    .dataframe tbody tr th {\n",
              "        vertical-align: top;\n",
              "    }\n",
              "\n",
              "    .dataframe thead th {\n",
              "        text-align: right;\n",
              "    }\n",
              "</style>\n",
              "<table border=\"1\" class=\"dataframe\">\n",
              "  <thead>\n",
              "    <tr style=\"text-align: right;\">\n",
              "      <th></th>\n",
              "      <th>Hours</th>\n",
              "      <th>Scores</th>\n",
              "    </tr>\n",
              "  </thead>\n",
              "  <tbody>\n",
              "    <tr>\n",
              "      <th>0</th>\n",
              "      <td>2.5</td>\n",
              "      <td>21</td>\n",
              "    </tr>\n",
              "    <tr>\n",
              "      <th>1</th>\n",
              "      <td>5.1</td>\n",
              "      <td>47</td>\n",
              "    </tr>\n",
              "    <tr>\n",
              "      <th>2</th>\n",
              "      <td>3.2</td>\n",
              "      <td>27</td>\n",
              "    </tr>\n",
              "    <tr>\n",
              "      <th>3</th>\n",
              "      <td>8.5</td>\n",
              "      <td>75</td>\n",
              "    </tr>\n",
              "    <tr>\n",
              "      <th>4</th>\n",
              "      <td>3.5</td>\n",
              "      <td>30</td>\n",
              "    </tr>\n",
              "  </tbody>\n",
              "</table>\n",
              "</div>"
            ],
            "text/plain": [
              "   Hours  Scores\n",
              "0    2.5      21\n",
              "1    5.1      47\n",
              "2    3.2      27\n",
              "3    8.5      75\n",
              "4    3.5      30"
            ]
          },
          "metadata": {
            "tags": []
          },
          "execution_count": 14
        }
      ]
    },
    {
      "cell_type": "code",
      "metadata": {
        "colab": {
          "base_uri": "https://localhost:8080/",
          "height": 284
        },
        "id": "nrRKLDET7qWQ",
        "outputId": "477d7d43-115a-4de7-a787-dc6e48148046"
      },
      "source": [
        "df.describe()"
      ],
      "execution_count": 15,
      "outputs": [
        {
          "output_type": "execute_result",
          "data": {
            "text/html": [
              "<div>\n",
              "<style scoped>\n",
              "    .dataframe tbody tr th:only-of-type {\n",
              "        vertical-align: middle;\n",
              "    }\n",
              "\n",
              "    .dataframe tbody tr th {\n",
              "        vertical-align: top;\n",
              "    }\n",
              "\n",
              "    .dataframe thead th {\n",
              "        text-align: right;\n",
              "    }\n",
              "</style>\n",
              "<table border=\"1\" class=\"dataframe\">\n",
              "  <thead>\n",
              "    <tr style=\"text-align: right;\">\n",
              "      <th></th>\n",
              "      <th>Hours</th>\n",
              "      <th>Scores</th>\n",
              "    </tr>\n",
              "  </thead>\n",
              "  <tbody>\n",
              "    <tr>\n",
              "      <th>count</th>\n",
              "      <td>25.000000</td>\n",
              "      <td>25.000000</td>\n",
              "    </tr>\n",
              "    <tr>\n",
              "      <th>mean</th>\n",
              "      <td>5.012000</td>\n",
              "      <td>51.480000</td>\n",
              "    </tr>\n",
              "    <tr>\n",
              "      <th>std</th>\n",
              "      <td>2.525094</td>\n",
              "      <td>25.286887</td>\n",
              "    </tr>\n",
              "    <tr>\n",
              "      <th>min</th>\n",
              "      <td>1.100000</td>\n",
              "      <td>17.000000</td>\n",
              "    </tr>\n",
              "    <tr>\n",
              "      <th>25%</th>\n",
              "      <td>2.700000</td>\n",
              "      <td>30.000000</td>\n",
              "    </tr>\n",
              "    <tr>\n",
              "      <th>50%</th>\n",
              "      <td>4.800000</td>\n",
              "      <td>47.000000</td>\n",
              "    </tr>\n",
              "    <tr>\n",
              "      <th>75%</th>\n",
              "      <td>7.400000</td>\n",
              "      <td>75.000000</td>\n",
              "    </tr>\n",
              "    <tr>\n",
              "      <th>max</th>\n",
              "      <td>9.200000</td>\n",
              "      <td>95.000000</td>\n",
              "    </tr>\n",
              "  </tbody>\n",
              "</table>\n",
              "</div>"
            ],
            "text/plain": [
              "           Hours     Scores\n",
              "count  25.000000  25.000000\n",
              "mean    5.012000  51.480000\n",
              "std     2.525094  25.286887\n",
              "min     1.100000  17.000000\n",
              "25%     2.700000  30.000000\n",
              "50%     4.800000  47.000000\n",
              "75%     7.400000  75.000000\n",
              "max     9.200000  95.000000"
            ]
          },
          "metadata": {
            "tags": []
          },
          "execution_count": 15
        }
      ]
    },
    {
      "cell_type": "code",
      "metadata": {
        "colab": {
          "base_uri": "https://localhost:8080/"
        },
        "id": "r0EXFkNK7xyx",
        "outputId": "2ab91d59-1864-4cd7-920f-a60bc2be7e7b"
      },
      "source": [
        "df.isna().sum()"
      ],
      "execution_count": 16,
      "outputs": [
        {
          "output_type": "execute_result",
          "data": {
            "text/plain": [
              "Hours     0\n",
              "Scores    0\n",
              "dtype: int64"
            ]
          },
          "metadata": {
            "tags": []
          },
          "execution_count": 16
        }
      ]
    },
    {
      "cell_type": "markdown",
      "metadata": {
        "id": "cy16RjHdAUCI"
      },
      "source": [
        "#Plotting the Data\r\n",
        "Let’s plot our data points on a 2-D graph to eyeball our dataset(get a rough overview) and see if we can manually find any relationship between the data."
      ]
    },
    {
      "cell_type": "code",
      "metadata": {
        "colab": {
          "base_uri": "https://localhost:8080/",
          "height": 286
        },
        "id": "lD43WT6572vb",
        "outputId": "a4c86a3f-8c6a-40b8-c70c-97b025182e7b"
      },
      "source": [
        "sns.heatmap(df.corr(),annot=True)"
      ],
      "execution_count": 17,
      "outputs": [
        {
          "output_type": "execute_result",
          "data": {
            "text/plain": [
              "<matplotlib.axes._subplots.AxesSubplot at 0x7fc22a5b2588>"
            ]
          },
          "metadata": {
            "tags": []
          },
          "execution_count": 17
        },
        {
          "output_type": "display_data",
          "data": {
            "image/png": "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\n",
            "text/plain": [
              "<Figure size 432x288 with 2 Axes>"
            ]
          },
          "metadata": {
            "tags": [],
            "needs_background": "light"
          }
        }
      ]
    },
    {
      "cell_type": "code",
      "metadata": {
        "colab": {
          "base_uri": "https://localhost:8080/",
          "height": 454
        },
        "id": "DODaRoHq8G50",
        "outputId": "9e8c2cbb-f875-4343-d80a-58ece61c5e7b"
      },
      "source": [
        "#plot helps in visualising the data distribution\r\n",
        "sns.relplot(\"Hours\",\"Scores\",data=df)"
      ],
      "execution_count": 18,
      "outputs": [
        {
          "output_type": "stream",
          "text": [
            "/usr/local/lib/python3.6/dist-packages/seaborn/_decorators.py:43: FutureWarning: Pass the following variables as keyword args: x, y. From version 0.12, the only valid positional argument will be `data`, and passing other arguments without an explicit keyword will result in an error or misinterpretation.\n",
            "  FutureWarning\n"
          ],
          "name": "stderr"
        },
        {
          "output_type": "execute_result",
          "data": {
            "text/plain": [
              "<seaborn.axisgrid.FacetGrid at 0x7fc22a42fc88>"
            ]
          },
          "metadata": {
            "tags": []
          },
          "execution_count": 18
        },
        {
          "output_type": "display_data",
          "data": {
            "image/png": "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\n",
            "text/plain": [
              "<Figure size 360x360 with 1 Axes>"
            ]
          },
          "metadata": {
            "tags": [],
            "needs_background": "light"
          }
        }
      ]
    },
    {
      "cell_type": "code",
      "metadata": {
        "id": "1Avcnfod8Y_o"
      },
      "source": [
        "X=df[[\"Hours\"]]"
      ],
      "execution_count": 31,
      "outputs": []
    },
    {
      "cell_type": "code",
      "metadata": {
        "colab": {
          "base_uri": "https://localhost:8080/"
        },
        "id": "fV19QFPk8y6V",
        "outputId": "61f3c8c5-a2e3-4430-da78-a0954d497f45"
      },
      "source": [
        "print(X)"
      ],
      "execution_count": 32,
      "outputs": [
        {
          "output_type": "stream",
          "text": [
            "    Hours\n",
            "0     2.5\n",
            "1     5.1\n",
            "2     3.2\n",
            "3     8.5\n",
            "4     3.5\n",
            "5     1.5\n",
            "6     9.2\n",
            "7     5.5\n",
            "8     8.3\n",
            "9     2.7\n",
            "10    7.7\n",
            "11    5.9\n",
            "12    4.5\n",
            "13    3.3\n",
            "14    1.1\n",
            "15    8.9\n",
            "16    2.5\n",
            "17    1.9\n",
            "18    6.1\n",
            "19    7.4\n",
            "20    2.7\n",
            "21    4.8\n",
            "22    3.8\n",
            "23    6.9\n",
            "24    7.8\n"
          ],
          "name": "stdout"
        }
      ]
    },
    {
      "cell_type": "code",
      "metadata": {
        "id": "wMWy5G-a82nt"
      },
      "source": [
        "y=df[['Scores']]"
      ],
      "execution_count": 33,
      "outputs": []
    },
    {
      "cell_type": "code",
      "metadata": {
        "colab": {
          "base_uri": "https://localhost:8080/",
          "height": 787
        },
        "id": "aE97dMF29j-_",
        "outputId": "502dda2e-2c0e-4eff-f131-13fba1a69c47"
      },
      "source": [
        "y"
      ],
      "execution_count": 34,
      "outputs": [
        {
          "output_type": "execute_result",
          "data": {
            "text/html": [
              "<div>\n",
              "<style scoped>\n",
              "    .dataframe tbody tr th:only-of-type {\n",
              "        vertical-align: middle;\n",
              "    }\n",
              "\n",
              "    .dataframe tbody tr th {\n",
              "        vertical-align: top;\n",
              "    }\n",
              "\n",
              "    .dataframe thead th {\n",
              "        text-align: right;\n",
              "    }\n",
              "</style>\n",
              "<table border=\"1\" class=\"dataframe\">\n",
              "  <thead>\n",
              "    <tr style=\"text-align: right;\">\n",
              "      <th></th>\n",
              "      <th>Scores</th>\n",
              "    </tr>\n",
              "  </thead>\n",
              "  <tbody>\n",
              "    <tr>\n",
              "      <th>0</th>\n",
              "      <td>21</td>\n",
              "    </tr>\n",
              "    <tr>\n",
              "      <th>1</th>\n",
              "      <td>47</td>\n",
              "    </tr>\n",
              "    <tr>\n",
              "      <th>2</th>\n",
              "      <td>27</td>\n",
              "    </tr>\n",
              "    <tr>\n",
              "      <th>3</th>\n",
              "      <td>75</td>\n",
              "    </tr>\n",
              "    <tr>\n",
              "      <th>4</th>\n",
              "      <td>30</td>\n",
              "    </tr>\n",
              "    <tr>\n",
              "      <th>5</th>\n",
              "      <td>20</td>\n",
              "    </tr>\n",
              "    <tr>\n",
              "      <th>6</th>\n",
              "      <td>88</td>\n",
              "    </tr>\n",
              "    <tr>\n",
              "      <th>7</th>\n",
              "      <td>60</td>\n",
              "    </tr>\n",
              "    <tr>\n",
              "      <th>8</th>\n",
              "      <td>81</td>\n",
              "    </tr>\n",
              "    <tr>\n",
              "      <th>9</th>\n",
              "      <td>25</td>\n",
              "    </tr>\n",
              "    <tr>\n",
              "      <th>10</th>\n",
              "      <td>85</td>\n",
              "    </tr>\n",
              "    <tr>\n",
              "      <th>11</th>\n",
              "      <td>62</td>\n",
              "    </tr>\n",
              "    <tr>\n",
              "      <th>12</th>\n",
              "      <td>41</td>\n",
              "    </tr>\n",
              "    <tr>\n",
              "      <th>13</th>\n",
              "      <td>42</td>\n",
              "    </tr>\n",
              "    <tr>\n",
              "      <th>14</th>\n",
              "      <td>17</td>\n",
              "    </tr>\n",
              "    <tr>\n",
              "      <th>15</th>\n",
              "      <td>95</td>\n",
              "    </tr>\n",
              "    <tr>\n",
              "      <th>16</th>\n",
              "      <td>30</td>\n",
              "    </tr>\n",
              "    <tr>\n",
              "      <th>17</th>\n",
              "      <td>24</td>\n",
              "    </tr>\n",
              "    <tr>\n",
              "      <th>18</th>\n",
              "      <td>67</td>\n",
              "    </tr>\n",
              "    <tr>\n",
              "      <th>19</th>\n",
              "      <td>69</td>\n",
              "    </tr>\n",
              "    <tr>\n",
              "      <th>20</th>\n",
              "      <td>30</td>\n",
              "    </tr>\n",
              "    <tr>\n",
              "      <th>21</th>\n",
              "      <td>54</td>\n",
              "    </tr>\n",
              "    <tr>\n",
              "      <th>22</th>\n",
              "      <td>35</td>\n",
              "    </tr>\n",
              "    <tr>\n",
              "      <th>23</th>\n",
              "      <td>76</td>\n",
              "    </tr>\n",
              "    <tr>\n",
              "      <th>24</th>\n",
              "      <td>86</td>\n",
              "    </tr>\n",
              "  </tbody>\n",
              "</table>\n",
              "</div>"
            ],
            "text/plain": [
              "    Scores\n",
              "0       21\n",
              "1       47\n",
              "2       27\n",
              "3       75\n",
              "4       30\n",
              "5       20\n",
              "6       88\n",
              "7       60\n",
              "8       81\n",
              "9       25\n",
              "10      85\n",
              "11      62\n",
              "12      41\n",
              "13      42\n",
              "14      17\n",
              "15      95\n",
              "16      30\n",
              "17      24\n",
              "18      67\n",
              "19      69\n",
              "20      30\n",
              "21      54\n",
              "22      35\n",
              "23      76\n",
              "24      86"
            ]
          },
          "metadata": {
            "tags": []
          },
          "execution_count": 34
        }
      ]
    },
    {
      "cell_type": "code",
      "metadata": {
        "colab": {
          "base_uri": "https://localhost:8080/"
        },
        "id": "c7fkQec29k4c",
        "outputId": "8532ba68-6a37-4a6f-b76f-4ff5f871f2cc"
      },
      "source": [
        "print(X.shape)\r\n",
        "print(y.shape)"
      ],
      "execution_count": 35,
      "outputs": [
        {
          "output_type": "stream",
          "text": [
            "(25, 1)\n",
            "(25, 1)\n"
          ],
          "name": "stdout"
        }
      ]
    },
    {
      "cell_type": "markdown",
      "metadata": {
        "id": "nPmQPN6UAmEl"
      },
      "source": [
        "# Splitting The Data\r\n",
        "\r\n",
        "Next, we split 80% of the data to the training set while 20% of the data to test set using below code. The test_size variable is where we actually specify the proportion of the test set.\r\n",
        "\r\n",
        "By passing our X and y variables into the train_test_split method, we are able to capture the splits in data by assigning 4 variables to the result."
      ]
    },
    {
      "cell_type": "code",
      "metadata": {
        "id": "tq2snbPW9p8S"
      },
      "source": [
        "X_train,X_test,Y_train,Y_test=train_test_split(X,y,test_size=0.2,random_state=42)"
      ],
      "execution_count": 36,
      "outputs": []
    },
    {
      "cell_type": "markdown",
      "metadata": {
        "id": "zirDgxi_A3Jf"
      },
      "source": [
        "# Intuition Behind Linear Regression\r\n",
        "\r\n",
        "The term “linearity” in algebra refers to a linear relationship between two or more variables. If we draw this relationship in a two-dimensional space (between two variables), we get a straight line.\r\n",
        "\r\n",
        "If we plot the independent variable (x) on the x-axis and dependent variable (y) on the y-axis, linear regression gives us a straight line that \"best fits\" the data points.It’s impossible to connect all the marks with a straight line, so you use a best fitting line.\r\n",
        "\r\n",
        "The equation for this line would be the result of your simple linear regression(Remember the equation y= b0 + b1*x that we just derived?). The regression finds the best fitting line.\r\n",
        "\r\n",
        "Now, how do you find the best fitting line? Since our data points(values of x and y) will remain constant for a particular dataset, we can only alter b0 and b1.\r\n",
        "\r\n",
        "Our objective is to find the values of b0 and b1 that will best fit this data.\r\n",
        "\r\n",
        "These 2 variables/coefficients are actually called hyperparameters. In machine learning, a hyperparameter is a parameter whose value is used to control the learning process. And we must always try to find some optimal parameters while building a machine learning model.\r\n",
        "\r\n",
        "This line is your regression model."
      ]
    },
    {
      "cell_type": "markdown",
      "metadata": {
        "id": "0DwJJSJyBJBz"
      },
      "source": [
        "#Training our model\r\n",
        "After splitting the data into training and testing sets, finally, the time is to train our algorithm. Firstly, importing of sklearn.linear_model is required for us to access LinearRegression. It then needs to be instantiated and model fit to our training data. This is seen below."
      ]
    },
    {
      "cell_type": "code",
      "metadata": {
        "colab": {
          "base_uri": "https://localhost:8080/"
        },
        "id": "QxlkSDPg-HKl",
        "outputId": "15cef488-479c-4b34-fc78-3eeab0975f65"
      },
      "source": [
        "model = LinearRegression()\r\n",
        "model.fit(X_train,Y_train)"
      ],
      "execution_count": 37,
      "outputs": [
        {
          "output_type": "execute_result",
          "data": {
            "text/plain": [
              "LinearRegression(copy_X=True, fit_intercept=True, n_jobs=None, normalize=False)"
            ]
          },
          "metadata": {
            "tags": []
          },
          "execution_count": 37
        }
      ]
    },
    {
      "cell_type": "markdown",
      "metadata": {
        "id": "vFNUogtvBRYc"
      },
      "source": [
        "#Making predictions based on your model\r\n",
        "Now that we have trained our algorithm, it’s time to make some predictions. To do so, we will use our test data and see how accurately our algorithm predicts the salaries.\r\n",
        "\r\n",
        "Making predictions based on your model is as simple as using the code below: passing the predict method your test data. This will return predicted values of y given the new test X data."
      ]
    },
    {
      "cell_type": "code",
      "metadata": {
        "colab": {
          "base_uri": "https://localhost:8080/"
        },
        "id": "TfAhyU2n-NGl",
        "outputId": "c1010ac8-d944-4642-bbe1-9a2702eaef36"
      },
      "source": [
        "y_pred=model.predict(X_test)\r\n",
        "y_pred"
      ],
      "execution_count": 38,
      "outputs": [
        {
          "output_type": "execute_result",
          "data": {
            "text/plain": [
              "array([[83.18814104],\n",
              "       [27.03208774],\n",
              "       [27.03208774],\n",
              "       [69.63323162],\n",
              "       [59.95115347]])"
            ]
          },
          "metadata": {
            "tags": []
          },
          "execution_count": 38
        }
      ]
    },
    {
      "cell_type": "code",
      "metadata": {
        "colab": {
          "base_uri": "https://localhost:8080/"
        },
        "id": "YKP4pOi3-u9U",
        "outputId": "c896c549-4bda-4427-c7a6-893056990ccb"
      },
      "source": [
        "print(model.intercept_)"
      ],
      "execution_count": 41,
      "outputs": [
        {
          "output_type": "stream",
          "text": [
            "[2.82689235]\n"
          ],
          "name": "stdout"
        }
      ]
    },
    {
      "cell_type": "code",
      "metadata": {
        "colab": {
          "base_uri": "https://localhost:8080/"
        },
        "id": "fXnd-Jul-1DI",
        "outputId": "0d21ddee-816e-49f4-cdb9-335152dc5dc8"
      },
      "source": [
        "print(model.coef_)"
      ],
      "execution_count": 42,
      "outputs": [
        {
          "output_type": "stream",
          "text": [
            "[[9.68207815]]\n"
          ],
          "name": "stdout"
        }
      ]
    },
    {
      "cell_type": "markdown",
      "metadata": {
        "id": "m0CQuQSYBZ_D"
      },
      "source": [
        "#Model Evaluation\r\n",
        "There are three primary metrics used to evaluate linear models. These are: Mean absolute error (MAE), Mean squared error (MSE), or Root mean squared error (RMSE)."
      ]
    },
    {
      "cell_type": "code",
      "metadata": {
        "colab": {
          "base_uri": "https://localhost:8080/"
        },
        "id": "gx0pMAiA_PA4",
        "outputId": "3572b3f3-fe57-400a-f7ee-23685719fe0f"
      },
      "source": [
        "from sklearn import metrics\r\n",
        "\r\n",
        "# print result of MAE\r\n",
        "print(metrics.mean_absolute_error(Y_test, y_pred))\r\n",
        "\r\n",
        "#print result of MSE\r\n",
        "print(metrics.mean_squared_error(Y_test, y_pred))\r\n",
        "\r\n",
        "#print result of RMSE\r\n",
        "print(np.sqrt(metrics.mean_squared_error(Y_test, y_pred)))"
      ],
      "execution_count": 44,
      "outputs": [
        {
          "output_type": "stream",
          "text": [
            "3.9207511902099244\n",
            "18.943211722315272\n",
            "4.352380006653288\n"
          ],
          "name": "stdout"
        }
      ]
    },
    {
      "cell_type": "markdown",
      "metadata": {
        "id": "ix8TS__PBrNL"
      },
      "source": [
        "**Let's just predict based on study hours**"
      ]
    },
    {
      "cell_type": "code",
      "metadata": {
        "id": "BDAlSEi3_YCP"
      },
      "source": [
        "ans=model.predict([[8.05]])"
      ],
      "execution_count": 45,
      "outputs": []
    },
    {
      "cell_type": "code",
      "metadata": {
        "colab": {
          "base_uri": "https://localhost:8080/"
        },
        "id": "6rqjVdM5BlgT",
        "outputId": "a9a1ef0e-2738-43fb-9c25-6f225fd16861"
      },
      "source": [
        "print(ans[0])"
      ],
      "execution_count": 46,
      "outputs": [
        {
          "output_type": "stream",
          "text": [
            "[80.7676215]\n"
          ],
          "name": "stdout"
        }
      ]
    },
    {
      "cell_type": "code",
      "metadata": {
        "id": "kazJ7NOdBpCV"
      },
      "source": [
        ""
      ],
      "execution_count": null,
      "outputs": []
    }
  ]
}# Spark-Foundation-Task
